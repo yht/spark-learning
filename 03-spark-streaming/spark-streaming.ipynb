{
 "cells": [
  {
   "cell_type": "markdown",
   "id": "7cdf97e4-c3ad-4f61-b667-77d9dde848f5",
   "metadata": {},
   "source": [
    "# Spark Streaming"
   ]
  },
  {
   "cell_type": "markdown",
   "id": "d5d8b505-a183-48a6-b06f-cc303f2f30d8",
   "metadata": {},
   "source": [
    "Kode di bawah ini bertujuan untuk melakukan penghitungan kata secara real-time dari data streaming yang diterima melalui socket.\n",
    "\n",
    "Spark Streaming yang membaca teks dari socket, memecahnya menjadi kata-kata, menghitung jumlah kemunculan setiap kata, dan menampilkan hasilnya ke konsol. Aplikasi ini sangat berguna untuk pemrosesan data real-time, seperti menghitung kata dalam streaming teks yang terus-menerus."
   ]
  },
  {
   "cell_type": "markdown",
   "id": "372a3b94-dad5-4168-8597-11e3b3a4486a",
   "metadata": {},
   "source": [
    "Sebelum menjalankan harap dipastikan port 8080 sudah standby menerima koneksi.\n",
    "Perintah: `nc -lk 8080`.\n",
    "\n",
    "Untuk melakukan bisa membuka File > New > Terminal.\n",
    "\n",
    "File ini adalah penjelasan baris per baris dari file `08-spark-streaming.py`."
   ]
  },
  {
   "cell_type": "code",
   "execution_count": null,
   "id": "bc582ccb-6568-4e89-b41b-3a783e9bb8fa",
   "metadata": {},
   "outputs": [],
   "source": [
    "from pyspark.sql import SparkSession"
   ]
  },
  {
   "cell_type": "code",
   "execution_count": null,
   "id": "efcbe0f6-5954-442d-8010-b7d6b3ffdffd",
   "metadata": {},
   "outputs": [],
   "source": [
    "spark = SparkSession.builder.appName(\"NetworkWordCount\").getOrCreate()"
   ]
  },
  {
   "cell_type": "markdown",
   "id": "5fad5d21-342c-4e35-9b66-e7f04b53372a",
   "metadata": {},
   "source": [
    "* SparkSession.builder.appName(\"NetworkWordCount\").getOrCreate(): Baris ini menginisialisasi SparkSession, yang merupakan entry point utama untuk API DataFrame dan Dataset. Di sini, aplikasi Spark dinamai \"NetworkWordCount\"."
   ]
  },
  {
   "cell_type": "code",
   "execution_count": null,
   "id": "0687161d-1504-4d27-946f-9ff7a8c245b4",
   "metadata": {},
   "outputs": [],
   "source": [
    "# Membaca data streaming dari socket\n",
    "lines = spark.readStream.format(\"socket\").option(\"host\", \"localhost\").option(\"port\", 8080).load()"
   ]
  },
  {
   "cell_type": "markdown",
   "id": "88d7cec3-2766-4f37-a802-ee875812cc34",
   "metadata": {},
   "source": [
    "* spark.readStream.format(\"socket\"): Menentukan bahwa data streaming akan dibaca dari socket.\n",
    "* option(\"host\", \"localhost\").option(\"port\", 9999): Menentukan bahwa Spark harus terhubung ke host lokal (localhost) pada port 9999 untuk menerima data streaming.\n",
    "* load(): Memulai pembacaan data dari socket.\n",
    "* Pada tahap ini, setiap baris teks yang dikirim ke socket ini akan dibaca sebagai satu baris dalam DataFrame lines."
   ]
  },
  {
   "cell_type": "code",
   "execution_count": null,
   "id": "11c3f1af-9dea-40c9-82a8-f11ac2bae800",
   "metadata": {},
   "outputs": [],
   "source": [
    "# Split setiap baris menjadi kata-kata\n",
    "words = lines.selectExpr(\"explode(split(value, ' ')) as word\")"
   ]
  },
  {
   "cell_type": "markdown",
   "id": "0547310e-6510-4d36-9ed9-b94925520a1f",
   "metadata": {},
   "source": [
    "* split(value, ' '): Memecah setiap baris teks (value) menjadi array kata-kata berdasarkan pemisah spasi (' ').\n",
    "* explode(split(value, ' ')): Mengubah array kata-kata tersebut menjadi baris-baris terpisah, satu kata per baris.\n",
    "* selectExpr(\"explode(split(value, ' ')) as word\"): Menyimpan hasilnya dalam DataFrame words, di mana setiap baris berisi satu kata."
   ]
  },
  {
   "cell_type": "code",
   "execution_count": null,
   "id": "81b95992-f2e3-4d71-baff-eb28e5460d9e",
   "metadata": {},
   "outputs": [],
   "source": [
    "# Hitung jumlah kemunculan setiap kata\n",
    "wordCounts = words.groupBy(\"word\").count()"
   ]
  },
  {
   "cell_type": "markdown",
   "id": "3f7944b5-d3b1-4efb-873d-3e8038310947",
   "metadata": {},
   "source": [
    "* words.groupBy(\"word\").count(): Mengelompokkan kata-kata yang sama dan menghitung berapa kali masing-masing kata muncul dalam data streaming."
   ]
  },
  {
   "cell_type": "code",
   "execution_count": null,
   "id": "740d296c-c480-48dc-bc3c-f096d46bd173",
   "metadata": {},
   "outputs": [],
   "source": [
    "# Mulai query untuk menulis hasil ke konsol\n",
    "query = wordCounts.writeStream.outputMode(\"complete\").format(\"console\").start()"
   ]
  },
  {
   "cell_type": "markdown",
   "id": "f5cd60b7-d33a-44a5-8fa2-5d34d36fa5d1",
   "metadata": {},
   "source": [
    "* wordCounts.writeStream: Mengambil DataFrame wordCounts dan menulis hasilnya sebagai stream.\n",
    "* outputMode(\"complete\"): Menentukan bahwa seluruh tabel hasil (jumlah setiap kata) akan ditampilkan setiap kali ada perubahan.\n",
    "* format(\"console\"): Menentukan bahwa hasilnya akan ditulis ke konsol.\n",
    "* start(): Memulai query streaming."
   ]
  },
  {
   "cell_type": "code",
   "execution_count": null,
   "id": "440b0ab0-8fb0-4367-904d-b6e72499d6f8",
   "metadata": {},
   "outputs": [],
   "source": [
    "query.awaitTermination()"
   ]
  },
  {
   "cell_type": "markdown",
   "id": "bd5f3981-7817-465a-9f3e-d25a277ce210",
   "metadata": {},
   "source": [
    "* query.awaitTermination(): Membuat aplikasi tetap berjalan dan menunggu hingga streaming dihentikan secara manual."
   ]
  }
 ],
 "metadata": {
  "kernelspec": {
   "display_name": "Python 3 (ipykernel)",
   "language": "python",
   "name": "python3"
  },
  "language_info": {
   "codemirror_mode": {
    "name": "ipython",
    "version": 3
   },
   "file_extension": ".py",
   "mimetype": "text/x-python",
   "name": "python",
   "nbconvert_exporter": "python",
   "pygments_lexer": "ipython3",
   "version": "3.11.9"
  }
 },
 "nbformat": 4,
 "nbformat_minor": 5
}
