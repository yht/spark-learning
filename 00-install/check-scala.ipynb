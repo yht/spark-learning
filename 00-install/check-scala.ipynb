{
 "cells": [
  {
   "cell_type": "markdown",
   "id": "6afdf519-7b97-415f-809e-cbe640fef2a2",
   "metadata": {},
   "source": [
    "# Load Spark Kernel"
   ]
  },
  {
   "cell_type": "code",
   "execution_count": 1,
   "id": "0d61c418-ceee-4d09-bf2c-8c861f9cd4db",
   "metadata": {},
   "outputs": [],
   "source": [
    "%%init_spark\n",
    "launcher.master = \"local\""
   ]
  },
  {
   "cell_type": "code",
   "execution_count": 2,
   "id": "f64dd03e-f032-4499-b560-482ebb047cab",
   "metadata": {},
   "outputs": [
    {
     "data": {
      "text/plain": [
       "Intitializing Scala interpreter ..."
      ]
     },
     "metadata": {},
     "output_type": "display_data"
    },
    {
     "data": {
      "text/plain": [
       "Spark Web UI available at http://6143fb482ae1:4040\n",
       "SparkContext available as 'sc' (version = 3.5.1, master = local, app id = local-1723028001889)\n",
       "SparkSession available as 'spark'\n"
      ]
     },
     "metadata": {},
     "output_type": "display_data"
    },
    {
     "data": {
      "text/plain": [
       "rdd: org.apache.spark.rdd.RDD[Int] = ParallelCollectionRDD[0] at parallelize at <console>:24\n",
       "res0: Double = 5050.0\n"
      ]
     },
     "execution_count": 2,
     "metadata": {},
     "output_type": "execute_result"
    }
   ],
   "source": [
    "val rdd = sc.parallelize(0 to 100)\n",
    "rdd.sum()"
   ]
  },
  {
   "cell_type": "code",
   "execution_count": 3,
   "id": "98ecbcf9-5aa5-4c79-95d4-f43a1f83e482",
   "metadata": {},
   "outputs": [
    {
     "data": {
      "text/plain": [
       "rdd: org.apache.spark.rdd.RDD[Int] = ParallelCollectionRDD[2] at parallelize at <console>:25\n",
       "res1: Double = 5.0005E7\n"
      ]
     },
     "execution_count": 3,
     "metadata": {},
     "output_type": "execute_result"
    }
   ],
   "source": [
    "val rdd = sc.parallelize(0 to 10000)\n",
    "rdd.sum()"
   ]
  },
  {
   "cell_type": "code",
   "execution_count": 4,
   "id": "02c7098b-ae8f-4247-96dc-4b222428f05f",
   "metadata": {},
   "outputs": [
    {
     "data": {
      "text/plain": [
       "res2: Double = 5.0005E7\n"
      ]
     },
     "execution_count": 4,
     "metadata": {},
     "output_type": "execute_result"
    }
   ],
   "source": [
    "rdd.sum()"
   ]
  }
 ],
 "metadata": {
  "kernelspec": {
   "display_name": "spylon-kernel",
   "language": "scala",
   "name": "spylon-kernel"
  },
  "language_info": {
   "codemirror_mode": "text/x-scala",
   "file_extension": ".scala",
   "help_links": [
    {
     "text": "MetaKernel Magics",
     "url": "https://metakernel.readthedocs.io/en/latest/source/README.html"
    }
   ],
   "mimetype": "text/x-scala",
   "name": "scala",
   "pygments_lexer": "scala",
   "version": "0.4.1"
  }
 },
 "nbformat": 4,
 "nbformat_minor": 5
}
