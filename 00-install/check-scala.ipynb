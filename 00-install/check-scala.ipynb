{
 "cells": [
  {
   "cell_type": "markdown",
   "id": "6afdf519-7b97-415f-809e-cbe640fef2a2",
   "metadata": {},
   "source": [
    "# Test Spark: Scala\n",
    "\n",
    "Kernel: spylon-kernel"
   ]
  },
  {
   "cell_type": "code",
   "execution_count": null,
   "id": "0d61c418-ceee-4d09-bf2c-8c861f9cd4db",
   "metadata": {},
   "outputs": [],
   "source": [
    "%%init_spark\n",
    "launcher.master = \"local\""
   ]
  },
  {
   "cell_type": "markdown",
   "id": "a1d73123",
   "metadata": {},
   "source": [
    "Inisiasi sesi spark untuk memulai SparkContext dengan menggunakan scala.\n",
    "* %%init_spark merupakan magic-command notebook\n",
    "* launcher.master = \"local\" untuk mengaktikan sesi spark dalam model local, bukan cluster.\n"
   ]
  },
  {
   "cell_type": "code",
   "execution_count": null,
   "id": "f64dd03e-f032-4499-b560-482ebb047cab",
   "metadata": {},
   "outputs": [],
   "source": [
    "val rdd = sc.parallelize(0 to 100)\n",
    "rdd.sum()"
   ]
  },
  {
   "cell_type": "markdown",
   "id": "b4cd8112",
   "metadata": {},
   "source": [
    "* sc.parallelize(0 to 100) untuk membuat RDD (Resilient Distributed Dataset) dari rangkaian angka dari 0 hingga 100. parallelize adalah metode SparkContext (sc) yang digunakan untuk mendistribusikan koleksi data ke dalam RDD yang dapat diproses secara paralel di seluruh node cluster atau di thread lokal dalam mode \"local\".\n",
    "* val merupakan deklarasi variabel rdd yang merujuk pada RDD yang baru saja dibuat.\n",
    "* rdd.sum() menghitung dengan menjumlah semua elemen di dalam RDD tersebut. Dalam hal ini, hasilnya adalah jumlah dari angka 0 hingga 100, yaitu 5050."
   ]
  },
  {
   "cell_type": "code",
   "execution_count": null,
   "id": "98ecbcf9-5aa5-4c79-95d4-f43a1f83e482",
   "metadata": {},
   "outputs": [],
   "source": [
    "val rdd = sc.parallelize(0 to 10000)\n",
    "rdd.sum()"
   ]
  },
  {
   "cell_type": "markdown",
   "id": "f1cbbe5d",
   "metadata": {},
   "source": [
    "* RDD baru dideklarasikan dari rangkaian angka dari 0 hingga 10.000. Variabel rdd dideklarasikan ulang menimpa rdd yang lama.\n",
    "* rdd.sum() menghitung ulang RDD yang baru yang hasilnya adalah jumlah dari angka 0 hingga 10000, yaitu 50005000."
   ]
  },
  {
   "cell_type": "code",
   "execution_count": null,
   "id": "02c7098b-ae8f-4247-96dc-4b222428f05f",
   "metadata": {},
   "outputs": [],
   "source": [
    "rdd.sum()"
   ]
  },
  {
   "cell_type": "markdown",
   "id": "62bf23a5",
   "metadata": {},
   "source": [
    "* Ini merupakan baris yang mengulangi perhitungan sum() pada RDD yang sama. Hasilnya tetap sama, yaitu 50.005.000."
   ]
  }
 ],
 "metadata": {
  "kernelspec": {
   "display_name": "spylon-kernel",
   "language": "scala",
   "name": "spylon-kernel"
  },
  "language_info": {
   "codemirror_mode": "text/x-scala",
   "file_extension": ".scala",
   "help_links": [
    {
     "text": "MetaKernel Magics",
     "url": "https://metakernel.readthedocs.io/en/latest/source/README.html"
    }
   ],
   "mimetype": "text/x-scala",
   "name": "scala",
   "pygments_lexer": "scala",
   "version": "0.4.1"
  }
 },
 "nbformat": 4,
 "nbformat_minor": 5
}
