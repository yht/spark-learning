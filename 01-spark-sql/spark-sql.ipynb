{
 "cells": [
  {
   "cell_type": "markdown",
   "metadata": {},
   "source": [
    "# SparkSQL"
   ]
  },
  {
   "cell_type": "code",
   "execution_count": 1,
   "metadata": {},
   "outputs": [],
   "source": [
    "from pyspark.sql import SparkSession\n",
    "from pyspark.sql.types import *\n",
    "from pyspark.sql.functions import *\n",
    "from datetime import datetime\n",
    "from pyspark import SparkContext"
   ]
  },
  {
   "cell_type": "code",
   "execution_count": 2,
   "metadata": {},
   "outputs": [],
   "source": [
    "sc = SparkContext()"
   ]
  },
  {
   "cell_type": "code",
   "execution_count": 3,
   "metadata": {},
   "outputs": [],
   "source": [
    "spark = SparkSession.builder.appName(\"SparkSQL-basic\").getOrCreate()"
   ]
  },
  {
   "cell_type": "markdown",
   "metadata": {},
   "source": [
    "## Membuat Data"
   ]
  },
  {
   "cell_type": "code",
   "execution_count": 4,
   "metadata": {},
   "outputs": [],
   "source": [
    "students_records = sc.parallelize([Row(roll_no=1, name='Intan', passed=True, marks={'Math':89,'Phycsics':87,'Chemistry':81},\n",
    "                                       sports=['chess','foot-ball'], Dob=datetime(2012,5,1,13,1,5)),\n",
    "                                   Row(roll_no=2, name='Smith', passed=False, marks={'Math':29,'Phycsics':31,'Chemistry':36},\n",
    "                                       sports=['volley-ball','table-tennis'], Dob=datetime(2012,5,12,14,2,5))])"
   ]
  },
  {
   "cell_type": "code",
   "execution_count": 5,
   "metadata": {},
   "outputs": [
    {
     "name": "stdout",
     "output_type": "stream",
     "text": [
      "+-------+-----+------+--------------------+--------------------+-------------------+\n",
      "|roll_no| name|passed|               marks|              sports|                Dob|\n",
      "+-------+-----+------+--------------------+--------------------+-------------------+\n",
      "|      1|Intan|  true|{Phycsics -> 87, ...|  [chess, foot-ball]|2012-05-01 13:01:05|\n",
      "|      2|Smith| false|{Phycsics -> 31, ...|[volley-ball, tab...|2012-05-12 14:02:05|\n",
      "+-------+-----+------+--------------------+--------------------+-------------------+\n",
      "\n"
     ]
    }
   ],
   "source": [
    "student_records_df = students_records.toDF()\n",
    "student_records_df.show()"
   ]
  },
  {
   "cell_type": "code",
   "execution_count": 6,
   "metadata": {},
   "outputs": [
    {
     "name": "stdout",
     "output_type": "stream",
     "text": [
      "+-------+-----+------+---------------------------------------------+---------------------------+-------------------+\n",
      "|roll_no|name |passed|marks                                        |sports                     |Dob                |\n",
      "+-------+-----+------+---------------------------------------------+---------------------------+-------------------+\n",
      "|1      |Intan|true  |{Phycsics -> 87, Chemistry -> 81, Math -> 89}|[chess, foot-ball]         |2012-05-01 13:01:05|\n",
      "|2      |Smith|false |{Phycsics -> 31, Chemistry -> 36, Math -> 29}|[volley-ball, table-tennis]|2012-05-12 14:02:05|\n",
      "+-------+-----+------+---------------------------------------------+---------------------------+-------------------+\n",
      "\n"
     ]
    }
   ],
   "source": [
    "student_records_df.show(truncate=False)"
   ]
  },
  {
   "cell_type": "markdown",
   "metadata": {},
   "source": [
    "## Membuat View"
   ]
  },
  {
   "cell_type": "code",
   "execution_count": 7,
   "metadata": {},
   "outputs": [],
   "source": [
    "student_records_df.createOrReplaceTempView('records')"
   ]
  },
  {
   "cell_type": "code",
   "execution_count": 8,
   "metadata": {},
   "outputs": [
    {
     "name": "stdout",
     "output_type": "stream",
     "text": [
      "+-------+-----+------+--------------------+--------------------+-------------------+\n",
      "|roll_no| name|passed|               marks|              sports|                Dob|\n",
      "+-------+-----+------+--------------------+--------------------+-------------------+\n",
      "|      1|Intan|  true|{Phycsics -> 87, ...|  [chess, foot-ball]|2012-05-01 13:01:05|\n",
      "|      2|Smith| false|{Phycsics -> 31, ...|[volley-ball, tab...|2012-05-12 14:02:05|\n",
      "+-------+-----+------+--------------------+--------------------+-------------------+\n",
      "\n"
     ]
    }
   ],
   "source": [
    "spark.sql(\"SELECT * FROM records\").show()"
   ]
  },
  {
   "cell_type": "code",
   "execution_count": 9,
   "metadata": {},
   "outputs": [
    {
     "name": "stdout",
     "output_type": "stream",
     "text": [
      "+-----+\n",
      "| name|\n",
      "+-----+\n",
      "|Intan|\n",
      "|Smith|\n",
      "+-----+\n",
      "\n"
     ]
    }
   ],
   "source": [
    "spark.sql(\"SELECT name FROM records\").show()"
   ]
  },
  {
   "cell_type": "code",
   "execution_count": 10,
   "metadata": {},
   "outputs": [
    {
     "data": {
      "text/plain": [
       "int"
      ]
     },
     "execution_count": 10,
     "metadata": {},
     "output_type": "execute_result"
    }
   ],
   "source": [
    "type(1)"
   ]
  },
  {
   "cell_type": "code",
   "execution_count": 11,
   "metadata": {},
   "outputs": [
    {
     "data": {
      "text/plain": [
       "pyspark.sql.dataframe.DataFrame"
      ]
     },
     "execution_count": 11,
     "metadata": {},
     "output_type": "execute_result"
    }
   ],
   "source": [
    "results = spark.sql(\"SELECT * FROM records\")\n",
    "type(results)"
   ]
  },
  {
   "cell_type": "markdown",
   "metadata": {},
   "source": [
    "## Filter Data\n"
   ]
  },
  {
   "cell_type": "code",
   "execution_count": 12,
   "metadata": {},
   "outputs": [
    {
     "name": "stdout",
     "output_type": "stream",
     "text": [
      "+-------+---------------+------------+\n",
      "|roll_no|marks[Phycsics]|   sports[1]|\n",
      "+-------+---------------+------------+\n",
      "|      1|             87|   foot-ball|\n",
      "|      2|             31|table-tennis|\n",
      "+-------+---------------+------------+\n",
      "\n"
     ]
    }
   ],
   "source": [
    "spark.sql('SELECT roll_no, marks[\"Phycsics\"], sports[1] FROM records').show()"
   ]
  },
  {
   "cell_type": "markdown",
   "metadata": {},
   "source": [
    "## Where Clause"
   ]
  },
  {
   "cell_type": "code",
   "execution_count": 13,
   "metadata": {},
   "outputs": [
    {
     "name": "stdout",
     "output_type": "stream",
     "text": [
      "+-------+-----+------+--------------------+------------------+-------------------+\n",
      "|roll_no| name|passed|               marks|            sports|                Dob|\n",
      "+-------+-----+------+--------------------+------------------+-------------------+\n",
      "|      1|Intan|  true|{Phycsics -> 87, ...|[chess, foot-ball]|2012-05-01 13:01:05|\n",
      "+-------+-----+------+--------------------+------------------+-------------------+\n",
      "\n"
     ]
    }
   ],
   "source": [
    "spark.sql('SELECT * FROM records WHERE passed=True').show()"
   ]
  },
  {
   "cell_type": "code",
   "execution_count": 14,
   "metadata": {},
   "outputs": [
    {
     "name": "stdout",
     "output_type": "stream",
     "text": [
      "+-------+-----+------+--------------------+--------------------+-------------------+\n",
      "|roll_no| name|passed|               marks|              sports|                Dob|\n",
      "+-------+-----+------+--------------------+--------------------+-------------------+\n",
      "|      2|Smith| false|{Phycsics -> 31, ...|[volley-ball, tab...|2012-05-12 14:02:05|\n",
      "+-------+-----+------+--------------------+--------------------+-------------------+\n",
      "\n"
     ]
    }
   ],
   "source": [
    "spark.sql('SELECT * FROM records WHERE marks[\"Chemistry\"] < 40').show()"
   ]
  },
  {
   "cell_type": "markdown",
   "metadata": {},
   "source": [
    "## Global View"
   ]
  },
  {
   "cell_type": "code",
   "execution_count": 15,
   "metadata": {},
   "outputs": [],
   "source": [
    "student_records_df.createGlobalTempView('global_records')"
   ]
  },
  {
   "cell_type": "code",
   "execution_count": 16,
   "metadata": {},
   "outputs": [
    {
     "name": "stdout",
     "output_type": "stream",
     "text": [
      "+-------+-----+------+--------------------+--------------------+-------------------+\n",
      "|roll_no| name|passed|               marks|              sports|                Dob|\n",
      "+-------+-----+------+--------------------+--------------------+-------------------+\n",
      "|      1|Intan|  true|{Phycsics -> 87, ...|  [chess, foot-ball]|2012-05-01 13:01:05|\n",
      "|      2|Smith| false|{Phycsics -> 31, ...|[volley-ball, tab...|2012-05-12 14:02:05|\n",
      "+-------+-----+------+--------------------+--------------------+-------------------+\n",
      "\n"
     ]
    }
   ],
   "source": [
    "spark.sql('SELECT * FROM global_temp.global_records').show()"
   ]
  },
  {
   "cell_type": "markdown",
   "metadata": {},
   "source": [
    "## Hapus Kolom"
   ]
  },
  {
   "cell_type": "code",
   "execution_count": 17,
   "metadata": {},
   "outputs": [
    {
     "data": {
      "text/plain": [
       "['roll_no', 'name', 'passed', 'marks', 'sports', 'Dob']"
      ]
     },
     "execution_count": 17,
     "metadata": {},
     "output_type": "execute_result"
    }
   ],
   "source": [
    "student_records_df.columns"
   ]
  },
  {
   "cell_type": "code",
   "execution_count": 18,
   "metadata": {},
   "outputs": [
    {
     "name": "stdout",
     "output_type": "stream",
     "text": [
      "+-------+-----+--------------------+--------------------+-------------------+\n",
      "|roll_no| name|               marks|              sports|                Dob|\n",
      "+-------+-----+--------------------+--------------------+-------------------+\n",
      "|      1|Intan|{Phycsics -> 87, ...|  [chess, foot-ball]|2012-05-01 13:01:05|\n",
      "|      2|Smith|{Phycsics -> 31, ...|[volley-ball, tab...|2012-05-12 14:02:05|\n",
      "+-------+-----+--------------------+--------------------+-------------------+\n",
      "\n"
     ]
    }
   ],
   "source": [
    "student_records_df = student_records_df.drop('passed')\n",
    "student_records_df.show()"
   ]
  },
  {
   "cell_type": "code",
   "execution_count": 19,
   "metadata": {},
   "outputs": [
    {
     "name": "stdout",
     "output_type": "stream",
     "text": [
      "+-------+-----+--------------------+--------------------+-------------------+\n",
      "|roll_no| name|               marks|              sports|                Dob|\n",
      "+-------+-----+--------------------+--------------------+-------------------+\n",
      "|      1|Intan|{Phycsics -> 87, ...|  [chess, foot-ball]|2012-05-01 13:01:05|\n",
      "|      2|Smith|{Phycsics -> 31, ...|[volley-ball, tab...|2012-05-12 14:02:05|\n",
      "+-------+-----+--------------------+--------------------+-------------------+\n",
      "\n"
     ]
    }
   ],
   "source": [
    "student_records_df.createOrReplaceTempView('records_new')\n",
    "spark.sql('SELECT * FROM records_new').show()"
   ]
  },
  {
   "cell_type": "code",
   "execution_count": 20,
   "metadata": {},
   "outputs": [
    {
     "name": "stdout",
     "output_type": "stream",
     "text": [
      "+-------+-----+------+--------------------+--------------------+-------------------+\n",
      "|roll_no| name|passed|               marks|              sports|                Dob|\n",
      "+-------+-----+------+--------------------+--------------------+-------------------+\n",
      "|      1|Intan|  true|{Phycsics -> 87, ...|  [chess, foot-ball]|2012-05-01 13:01:05|\n",
      "|      2|Smith| false|{Phycsics -> 31, ...|[volley-ball, tab...|2012-05-12 14:02:05|\n",
      "+-------+-----+------+--------------------+--------------------+-------------------+\n",
      "\n"
     ]
    }
   ],
   "source": [
    "spark.sql('SELECT * FROM records').show()"
   ]
  },
  {
   "cell_type": "markdown",
   "metadata": {},
   "source": [
    "## Agregat = Kolom Baru"
   ]
  },
  {
   "cell_type": "code",
   "execution_count": 21,
   "metadata": {},
   "outputs": [
    {
     "name": "stdout",
     "output_type": "stream",
     "text": [
      "+-------+-----+---------------------------------------------+---------------------------+-------------------+\n",
      "|roll_no|name |marks                                        |sports                     |Dob                |\n",
      "+-------+-----+---------------------------------------------+---------------------------+-------------------+\n",
      "|1      |Intan|{Phycsics -> 87, Chemistry -> 81, Math -> 89}|[chess, foot-ball]         |2012-05-01 13:01:05|\n",
      "|2      |Smith|{Phycsics -> 31, Chemistry -> 36, Math -> 29}|[volley-ball, table-tennis]|2012-05-12 14:02:05|\n",
      "+-------+-----+---------------------------------------------+---------------------------+-------------------+\n",
      "\n"
     ]
    }
   ],
   "source": [
    "student_records_df.show(truncate=False)"
   ]
  },
  {
   "cell_type": "code",
   "execution_count": 22,
   "metadata": {},
   "outputs": [
    {
     "name": "stdout",
     "output_type": "stream",
     "text": [
      "+---------+\n",
      "|avg_marks|\n",
      "+---------+\n",
      "|     86.0|\n",
      "|     32.0|\n",
      "+---------+\n",
      "\n"
     ]
    }
   ],
   "source": [
    "spark.sql('SELECT round((marks.Phycsics+marks.Chemistry+marks.Math)/3) avg_marks FROM records').show()"
   ]
  },
  {
   "cell_type": "code",
   "execution_count": 23,
   "metadata": {},
   "outputs": [
    {
     "name": "stdout",
     "output_type": "stream",
     "text": [
      "+-------+-----+------+--------------------+--------------------+-------------------+---------+\n",
      "|roll_no| name|passed|               marks|              sports|                Dob|avg_marks|\n",
      "+-------+-----+------+--------------------+--------------------+-------------------+---------+\n",
      "|      1|Intan|  true|{Phycsics -> 87, ...|  [chess, foot-ball]|2012-05-01 13:01:05|     86.0|\n",
      "|      2|Smith| false|{Phycsics -> 31, ...|[volley-ball, tab...|2012-05-12 14:02:05|     32.0|\n",
      "+-------+-----+------+--------------------+--------------------+-------------------+---------+\n",
      "\n"
     ]
    }
   ],
   "source": [
    "student_records_df = spark.sql('SELECT *, round((marks.Phycsics+marks.Chemistry+marks.Math)/3) avg_marks FROM records')\n",
    "student_records_df.show()"
   ]
  },
  {
   "cell_type": "markdown",
   "metadata": {},
   "source": [
    "## Update View"
   ]
  },
  {
   "cell_type": "code",
   "execution_count": 24,
   "metadata": {},
   "outputs": [],
   "source": [
    "student_records_df.createOrReplaceTempView('record_new')"
   ]
  },
  {
   "cell_type": "code",
   "execution_count": 25,
   "metadata": {},
   "outputs": [
    {
     "name": "stdout",
     "output_type": "stream",
     "text": [
      "+-------+-----+------+--------------------+--------------------+-------------------+---------+------+\n",
      "|roll_no| name|passed|               marks|              sports|                Dob|avg_marks|status|\n",
      "+-------+-----+------+--------------------+--------------------+-------------------+---------+------+\n",
      "|      1|Intan|  true|{Phycsics -> 87, ...|  [chess, foot-ball]|2012-05-01 13:01:05|     86.0|passed|\n",
      "|      2|Smith| false|{Phycsics -> 31, ...|[volley-ball, tab...|2012-05-12 14:02:05|     32.0|failed|\n",
      "+-------+-----+------+--------------------+--------------------+-------------------+---------+------+\n",
      "\n"
     ]
    }
   ],
   "source": [
    "student_records_df = student_records_df.withColumn('status', (when(col('avg_marks')>=40, 'passed')).otherwise('failed'))\n",
    "student_records_df.show()"
   ]
  },
  {
   "cell_type": "markdown",
   "metadata": {},
   "source": [
    "## Data Baru"
   ]
  },
  {
   "cell_type": "code",
   "execution_count": 26,
   "metadata": {},
   "outputs": [
    {
     "name": "stdout",
     "output_type": "stream",
     "text": [
      "+-------------+----------+-----+------+---+-----+\n",
      "|employee_name|department|state|salary|age|bonus|\n",
      "+-------------+----------+-----+------+---+-----+\n",
      "|         John|        HR|   NY| 90000| 34|10000|\n",
      "|         Neha|        HR|   NY| 86000| 28|20000|\n",
      "|       Robert|     Sales|   CA| 81000| 56|22000|\n",
      "|        Maria|     Sales|   CA| 99000| 45|15000|\n",
      "|         Paul|        IT|   NY| 98000| 38|14000|\n",
      "|          Jen|        IT|   CA| 90000| 34|20000|\n",
      "|          Raj|        IT|   CA| 93000| 28|28000|\n",
      "|        Pooja|        IT|   CA| 95000| 31|19000|\n",
      "+-------------+----------+-----+------+---+-----+\n",
      "\n"
     ]
    }
   ],
   "source": [
    "employeeData = (('John','HR','NY',90000,34,10000),('Neha','HR','NY',86000,28,20000),\n",
    "                ('Robert','Sales','CA',81000,56,22000),('Maria','Sales','CA',99000,45,15000),\n",
    "                ('Paul','IT','NY',98000,38,14000),('Jen','IT','CA',90000,34,20000),\n",
    "                ('Raj','IT','CA',93000,28,28000),('Pooja','IT','CA',95000,31,19000))\n",
    "columns = ('employee_name','department','state','salary','age','bonus')\n",
    "employeeDf = spark.createDataFrame(employeeData, columns)\n",
    "employeeDf.show()"
   ]
  },
  {
   "cell_type": "markdown",
   "metadata": {},
   "source": [
    "## GroupBy"
   ]
  },
  {
   "cell_type": "code",
   "execution_count": 27,
   "metadata": {},
   "outputs": [
    {
     "name": "stdout",
     "output_type": "stream",
     "text": [
      "+----------+-----------+\n",
      "|department|sum(salary)|\n",
      "+----------+-----------+\n",
      "|        HR|     176000|\n",
      "|     Sales|     180000|\n",
      "|        IT|     376000|\n",
      "+----------+-----------+\n",
      "\n"
     ]
    }
   ],
   "source": [
    "employeeDf.groupBy(col('department')).agg(sum(col('salary'))).show()"
   ]
  },
  {
   "cell_type": "code",
   "execution_count": 28,
   "metadata": {},
   "outputs": [
    {
     "name": "stdout",
     "output_type": "stream",
     "text": [
      "+----------+---------+\n",
      "|department|total_sal|\n",
      "+----------+---------+\n",
      "|        HR|   176000|\n",
      "|     Sales|   180000|\n",
      "|        IT|   376000|\n",
      "+----------+---------+\n",
      "\n"
     ]
    }
   ],
   "source": [
    "employeeDf.groupBy(col('department')).agg(sum(col('salary')).alias('total_sal')).orderBy('total_sal').show()"
   ]
  },
  {
   "cell_type": "code",
   "execution_count": 29,
   "metadata": {},
   "outputs": [
    {
     "name": "stdout",
     "output_type": "stream",
     "text": [
      "+----------+---------+\n",
      "|department|total_sal|\n",
      "+----------+---------+\n",
      "|        IT|   376000|\n",
      "|     Sales|   180000|\n",
      "|        HR|   176000|\n",
      "+----------+---------+\n",
      "\n"
     ]
    }
   ],
   "source": [
    "employeeDf.groupBy(col('department')).agg(sum(col('salary')).alias('total_sal')).orderBy(col('total_sal').desc()).show()"
   ]
  },
  {
   "cell_type": "code",
   "execution_count": 30,
   "metadata": {},
   "outputs": [
    {
     "name": "stdout",
     "output_type": "stream",
     "text": [
      "+----------+-----+----------+\n",
      "|department|state|sum(bonus)|\n",
      "+----------+-----+----------+\n",
      "|        HR|   NY|     30000|\n",
      "|     Sales|   CA|     37000|\n",
      "|        IT|   NY|     14000|\n",
      "|        IT|   CA|     67000|\n",
      "+----------+-----+----------+\n",
      "\n"
     ]
    }
   ],
   "source": [
    "employeeDf.groupBy(col('department'),col('state')).agg(sum(col('bonus'))).show()"
   ]
  },
  {
   "cell_type": "code",
   "execution_count": 31,
   "metadata": {},
   "outputs": [
    {
     "name": "stdout",
     "output_type": "stream",
     "text": [
      "+----------+----------+---------+\n",
      "|department|avg_salary|max_bonus|\n",
      "+----------+----------+---------+\n",
      "|        HR|   88000.0|    20000|\n",
      "|     Sales|   90000.0|    22000|\n",
      "|        IT|   94000.0|    28000|\n",
      "+----------+----------+---------+\n",
      "\n"
     ]
    }
   ],
   "source": [
    "employeeDf.groupBy(col('department')).agg(avg(col('salary')).alias('avg_salary'),max(col('bonus')).alias('max_bonus')).show()"
   ]
  },
  {
   "cell_type": "markdown",
   "metadata": {},
   "source": [
    "## Windowing\n",
    "(Intro)"
   ]
  },
  {
   "cell_type": "code",
   "execution_count": 32,
   "metadata": {},
   "outputs": [
    {
     "name": "stdout",
     "output_type": "stream",
     "text": [
      "+-------------+----------+-----+------+---+-----+----+\n",
      "|employee_name|department|state|salary|age|bonus|rank|\n",
      "+-------------+----------+-----+------+---+-----+----+\n",
      "|         Neha|        HR|   NY| 86000| 28|20000|   2|\n",
      "|        Pooja|        IT|   CA| 95000| 31|19000|   2|\n",
      "|       Robert|     Sales|   CA| 81000| 56|22000|   2|\n",
      "+-------------+----------+-----+------+---+-----+----+\n",
      "\n"
     ]
    }
   ],
   "source": [
    "from pyspark.sql.window import Window\n",
    "windowSpec = Window.partitionBy(\"department\").orderBy(col(\"salary\").desc())\n",
    "employeeDf = employeeDf.withColumn(\"rank\", dense_rank().over(windowSpec))\n",
    "employeeDf.filter(col(\"rank\") == 2).show()"
   ]
  },
  {
   "cell_type": "markdown",
   "metadata": {},
   "source": [
    "## Join"
   ]
  },
  {
   "cell_type": "code",
   "execution_count": 33,
   "metadata": {},
   "outputs": [
    {
     "name": "stdout",
     "output_type": "stream",
     "text": [
      "+----------+-------+\n",
      "|department|manager|\n",
      "+----------+-------+\n",
      "|     Sales|  Maria|\n",
      "|        HR|   John|\n",
      "|        IT|  Pooja|\n",
      "+----------+-------+\n",
      "\n"
     ]
    }
   ],
   "source": [
    "managers = (('Sales','Maria'),('HR','John'),('IT','Pooja'))\n",
    "mg_columns = ('department','manager')\n",
    "managerDf = spark.createDataFrame(managers, mg_columns)\n",
    "managerDf.show()"
   ]
  },
  {
   "cell_type": "code",
   "execution_count": 34,
   "metadata": {},
   "outputs": [
    {
     "name": "stdout",
     "output_type": "stream",
     "text": [
      "+-------------+-------+\n",
      "|employee_name|manager|\n",
      "+-------------+-------+\n",
      "|         John|   John|\n",
      "|         Neha|   John|\n",
      "|         Paul|  Pooja|\n",
      "|          Jen|  Pooja|\n",
      "|          Raj|  Pooja|\n",
      "|        Pooja|  Pooja|\n",
      "|       Robert|  Maria|\n",
      "|        Maria|  Maria|\n",
      "+-------------+-------+\n",
      "\n"
     ]
    }
   ],
   "source": [
    "employeeDf.join(managerDf, employeeDf['department'] == managerDf['department'], how='inner').select(col('employee_name'), col('manager')).show()"
   ]
  },
  {
   "cell_type": "markdown",
   "metadata": {},
   "source": [
    "## Terima kasih"
   ]
  }
 ],
 "metadata": {
  "kernelspec": {
   "display_name": "Python 3 (ipykernel)",
   "language": "python",
   "name": "python3"
  },
  "language_info": {
   "codemirror_mode": {
    "name": "ipython",
    "version": 3
   },
   "file_extension": ".py",
   "mimetype": "text/x-python",
   "name": "python",
   "nbconvert_exporter": "python",
   "pygments_lexer": "ipython3",
   "version": "3.11.9"
  }
 },
 "nbformat": 4,
 "nbformat_minor": 4
}
