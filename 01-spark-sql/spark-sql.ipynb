{
 "cells": [
  {
   "cell_type": "markdown",
   "metadata": {},
   "source": [
    "# SparkSQL"
   ]
  },
  {
   "cell_type": "code",
   "execution_count": 1,
   "metadata": {},
   "outputs": [],
   "source": [
    "from pyspark.sql import SparkSession\n",
    "from pyspark.sql.types import *\n",
    "from pyspark.sql.functions import *\n",
    "from datetime import datetime\n",
    "from pyspark import SparkContext"
   ]
  },
  {
   "cell_type": "code",
   "execution_count": 2,
   "metadata": {},
   "outputs": [],
   "source": [
    "sc = SparkContext()"
   ]
  },
  {
   "cell_type": "code",
   "execution_count": 3,
   "metadata": {},
   "outputs": [],
   "source": [
    "spark = SparkSession.builder.appName(\"SparkSQL-basic\").getOrCreate()"
   ]
  },
  {
   "cell_type": "markdown",
   "metadata": {},
   "source": [
    "## Membuat Data"
   ]
  },
  {
   "cell_type": "code",
   "execution_count": 4,
   "metadata": {},
   "outputs": [],
   "source": [
    "students_records = sc.parallelize([Row(roll_no=1, name='Intan', passed=True, marks={'Math':89,'Phycsics':87,'Chemistry':81},\n",
    "                                       sports=['chess','foot-ball'], Dob=datetime(2012,5,1,13,1,5)),\n",
    "                                   Row(roll_no=2, name='Smith', passed=False, marks={'Math':29,'Phycsics':31,'Chemistry':36},\n",
    "                                       sports=['volley-ball','table-tennis'], Dob=datetime(2012,5,12,14,2,5))])"
   ]
  },
  {
   "cell_type": "code",
   "execution_count": 5,
   "metadata": {},
   "outputs": [
    {
     "name": "stdout",
     "output_type": "stream",
     "text": [
      "+-------+-----+------+--------------------+--------------------+-------------------+\n",
      "|roll_no| name|passed|               marks|              sports|                Dob|\n",
      "+-------+-----+------+--------------------+--------------------+-------------------+\n",
      "|      1|Intan|  true|{Phycsics -> 87, ...|  [chess, foot-ball]|2012-05-01 13:01:05|\n",
      "|      2|Smith| false|{Phycsics -> 31, ...|[volley-ball, tab...|2012-05-12 14:02:05|\n",
      "+-------+-----+------+--------------------+--------------------+-------------------+\n",
      "\n"
     ]
    }
   ],
   "source": [
    "student_records_df = students_records.toDF()\n",
    "student_records_df.show()"
   ]
  },
  {
   "cell_type": "code",
   "execution_count": 6,
   "metadata": {},
   "outputs": [
    {
     "name": "stdout",
     "output_type": "stream",
     "text": [
      "+-------+-----+------+---------------------------------------------+---------------------------+-------------------+\n",
      "|roll_no|name |passed|marks                                        |sports                     |Dob                |\n",
      "+-------+-----+------+---------------------------------------------+---------------------------+-------------------+\n",
      "|1      |Intan|true  |{Phycsics -> 87, Chemistry -> 81, Math -> 89}|[chess, foot-ball]         |2012-05-01 13:01:05|\n",
      "|2      |Smith|false |{Phycsics -> 31, Chemistry -> 36, Math -> 29}|[volley-ball, table-tennis]|2012-05-12 14:02:05|\n",
      "+-------+-----+------+---------------------------------------------+---------------------------+-------------------+\n",
      "\n"
     ]
    }
   ],
   "source": [
    "student_records_df.show(truncate=False)"
   ]
  },
  {
   "cell_type": "markdown",
   "metadata": {},
   "source": [
    "## Membuat View"
   ]
  },
  {
   "cell_type": "code",
   "execution_count": 7,
   "metadata": {},
   "outputs": [],
   "source": [
    "student_records_df.createOrReplaceTempView('records')"
   ]
  },
  {
   "cell_type": "code",
   "execution_count": 8,
   "metadata": {},
   "outputs": [
    {
     "name": "stdout",
     "output_type": "stream",
     "text": [
      "+-------+-----+------+--------------------+--------------------+-------------------+\n",
      "|roll_no| name|passed|               marks|              sports|                Dob|\n",
      "+-------+-----+------+--------------------+--------------------+-------------------+\n",
      "|      1|Intan|  true|{Phycsics -> 87, ...|  [chess, foot-ball]|2012-05-01 13:01:05|\n",
      "|      2|Smith| false|{Phycsics -> 31, ...|[volley-ball, tab...|2012-05-12 14:02:05|\n",
      "+-------+-----+------+--------------------+--------------------+-------------------+\n",
      "\n"
     ]
    }
   ],
   "source": [
    "spark.sql(\"SELECT * FROM records\").show()"
   ]
  },
  {
   "cell_type": "code",
   "execution_count": 9,
   "metadata": {},
   "outputs": [
    {
     "name": "stdout",
     "output_type": "stream",
     "text": [
      "+-----+\n",
      "| name|\n",
      "+-----+\n",
      "|Intan|\n",
      "|Smith|\n",
      "+-----+\n",
      "\n"
     ]
    }
   ],
   "source": [
    "spark.sql(\"SELECT name FROM records\").show()"
   ]
  },
  {
   "cell_type": "code",
   "execution_count": 10,
   "metadata": {},
   "outputs": [
    {
     "data": {
      "text/plain": [
       "int"
      ]
     },
     "execution_count": 10,
     "metadata": {},
     "output_type": "execute_result"
    }
   ],
   "source": [
    "type(1)"
   ]
  },
  {
   "cell_type": "code",
   "execution_count": 11,
   "metadata": {},
   "outputs": [
    {
     "data": {
      "text/plain": [
       "pyspark.sql.dataframe.DataFrame"
      ]
     },
     "execution_count": 11,
     "metadata": {},
     "output_type": "execute_result"
    }
   ],
   "source": [
    "results = spark.sql(\"SELECT * FROM records\")\n",
    "type(results)"
   ]
  },
  {
   "cell_type": "markdown",
   "metadata": {},
   "source": [
    "## Filter Data\n"
   ]
  },
  {
   "cell_type": "code",
   "execution_count": 14,
   "metadata": {},
   "outputs": [
    {
     "name": "stdout",
     "output_type": "stream",
     "text": [
      "+-------+---------------+------------+\n",
      "|roll_no|marks[Phycsics]|   sports[1]|\n",
      "+-------+---------------+------------+\n",
      "|      1|             87|   foot-ball|\n",
      "|      2|             31|table-tennis|\n",
      "+-------+---------------+------------+\n",
      "\n"
     ]
    }
   ],
   "source": [
    "spark.sql('SELECT roll_no, marks[\"Phycsics\"], sports[1] FROM records').show()"
   ]
  },
  {
   "cell_type": "markdown",
   "metadata": {},
   "source": [
    "## Where Clause"
   ]
  },
  {
   "cell_type": "code",
   "execution_count": 15,
   "metadata": {},
   "outputs": [
    {
     "name": "stdout",
     "output_type": "stream",
     "text": [
      "+-------+-----+------+--------------------+------------------+-------------------+\n",
      "|roll_no| name|passed|               marks|            sports|                Dob|\n",
      "+-------+-----+------+--------------------+------------------+-------------------+\n",
      "|      1|Intan|  true|{Phycsics -> 87, ...|[chess, foot-ball]|2012-05-01 13:01:05|\n",
      "+-------+-----+------+--------------------+------------------+-------------------+\n",
      "\n"
     ]
    }
   ],
   "source": [
    "spark.sql('SELECT * FROM records WHERE passed=True').show()"
   ]
  },
  {
   "cell_type": "code",
   "execution_count": 16,
   "metadata": {},
   "outputs": [
    {
     "name": "stdout",
     "output_type": "stream",
     "text": [
      "+-------+-----+------+--------------------+--------------------+-------------------+\n",
      "|roll_no| name|passed|               marks|              sports|                Dob|\n",
      "+-------+-----+------+--------------------+--------------------+-------------------+\n",
      "|      2|Smith| false|{Phycsics -> 31, ...|[volley-ball, tab...|2012-05-12 14:02:05|\n",
      "+-------+-----+------+--------------------+--------------------+-------------------+\n",
      "\n"
     ]
    }
   ],
   "source": [
    "spark.sql('SELECT * FROM records WHERE marks[\"Chemistry\"] < 40').show()"
   ]
  },
  {
   "cell_type": "markdown",
   "metadata": {},
   "source": [
    "## Global View"
   ]
  },
  {
   "cell_type": "code",
   "execution_count": 17,
   "metadata": {},
   "outputs": [],
   "source": [
    "student_records_df.createGlobalTempView('global_records')"
   ]
  },
  {
   "cell_type": "code",
   "execution_count": 18,
   "metadata": {},
   "outputs": [
    {
     "name": "stdout",
     "output_type": "stream",
     "text": [
      "+-------+-----+------+--------------------+--------------------+-------------------+\n",
      "|roll_no| name|passed|               marks|              sports|                Dob|\n",
      "+-------+-----+------+--------------------+--------------------+-------------------+\n",
      "|      1|Intan|  true|{Phycsics -> 87, ...|  [chess, foot-ball]|2012-05-01 13:01:05|\n",
      "|      2|Smith| false|{Phycsics -> 31, ...|[volley-ball, tab...|2012-05-12 14:02:05|\n",
      "+-------+-----+------+--------------------+--------------------+-------------------+\n",
      "\n"
     ]
    }
   ],
   "source": [
    "spark.sql('SELECT * FROM global_temp.global_records').show()"
   ]
  },
  {
   "cell_type": "markdown",
   "metadata": {},
   "source": [
    "## Hapus Kolom"
   ]
  },
  {
   "cell_type": "code",
   "execution_count": 19,
   "metadata": {},
   "outputs": [
    {
     "data": {
      "text/plain": [
       "['roll_no', 'name', 'passed', 'marks', 'sports', 'Dob']"
      ]
     },
     "execution_count": 19,
     "metadata": {},
     "output_type": "execute_result"
    }
   ],
   "source": [
    "student_records_df.columns"
   ]
  },
  {
   "cell_type": "code",
   "execution_count": 25,
   "metadata": {},
   "outputs": [
    {
     "name": "stdout",
     "output_type": "stream",
     "text": [
      "+-------+-----+--------------------+--------------------+-------------------+\n",
      "|roll_no| name|               marks|              sports|                Dob|\n",
      "+-------+-----+--------------------+--------------------+-------------------+\n",
      "|      1|Intan|{Phycsics -> 87, ...|  [chess, foot-ball]|2012-05-01 13:01:05|\n",
      "|      2|Smith|{Phycsics -> 31, ...|[volley-ball, tab...|2012-05-12 14:02:05|\n",
      "+-------+-----+--------------------+--------------------+-------------------+\n",
      "\n"
     ]
    }
   ],
   "source": [
    "student_records_df = student_records_df.drop('passed')\n",
    "student_records_df.show()"
   ]
  },
  {
   "cell_type": "code",
   "execution_count": 26,
   "metadata": {},
   "outputs": [
    {
     "name": "stdout",
     "output_type": "stream",
     "text": [
      "+-------+-----+--------------------+--------------------+-------------------+\n",
      "|roll_no| name|               marks|              sports|                Dob|\n",
      "+-------+-----+--------------------+--------------------+-------------------+\n",
      "|      1|Intan|{Phycsics -> 87, ...|  [chess, foot-ball]|2012-05-01 13:01:05|\n",
      "|      2|Smith|{Phycsics -> 31, ...|[volley-ball, tab...|2012-05-12 14:02:05|\n",
      "+-------+-----+--------------------+--------------------+-------------------+\n",
      "\n"
     ]
    }
   ],
   "source": [
    "student_records_df.createOrReplaceTempView('records_new')\n",
    "spark.sql('SELECT * FROM records_new').show()"
   ]
  },
  {
   "cell_type": "code",
   "execution_count": 27,
   "metadata": {},
   "outputs": [
    {
     "name": "stdout",
     "output_type": "stream",
     "text": [
      "+-------+-----+------+--------------------+--------------------+-------------------+\n",
      "|roll_no| name|passed|               marks|              sports|                Dob|\n",
      "+-------+-----+------+--------------------+--------------------+-------------------+\n",
      "|      1|Intan|  true|{Phycsics -> 87, ...|  [chess, foot-ball]|2012-05-01 13:01:05|\n",
      "|      2|Smith| false|{Phycsics -> 31, ...|[volley-ball, tab...|2012-05-12 14:02:05|\n",
      "+-------+-----+------+--------------------+--------------------+-------------------+\n",
      "\n"
     ]
    }
   ],
   "source": [
    "spark.sql('SELECT * FROM records').show()"
   ]
  },
  {
   "cell_type": "markdown",
   "metadata": {},
   "source": [
    "## Agregat = Kolom Baru"
   ]
  },
  {
   "cell_type": "code",
   "execution_count": 28,
   "metadata": {},
   "outputs": [
    {
     "name": "stdout",
     "output_type": "stream",
     "text": [
      "+-------+-----+---------------------------------------------+---------------------------+-------------------+\n",
      "|roll_no|name |marks                                        |sports                     |Dob                |\n",
      "+-------+-----+---------------------------------------------+---------------------------+-------------------+\n",
      "|1      |Intan|{Phycsics -> 87, Chemistry -> 81, Math -> 89}|[chess, foot-ball]         |2012-05-01 13:01:05|\n",
      "|2      |Smith|{Phycsics -> 31, Chemistry -> 36, Math -> 29}|[volley-ball, table-tennis]|2012-05-12 14:02:05|\n",
      "+-------+-----+---------------------------------------------+---------------------------+-------------------+\n",
      "\n"
     ]
    }
   ],
   "source": [
    "student_records_df.show(truncate=False)"
   ]
  },
  {
   "cell_type": "code",
   "execution_count": 34,
   "metadata": {},
   "outputs": [
    {
     "name": "stdout",
     "output_type": "stream",
     "text": [
      "+---------+\n",
      "|avg_marks|\n",
      "+---------+\n",
      "|     86.0|\n",
      "|     32.0|\n",
      "+---------+\n",
      "\n"
     ]
    }
   ],
   "source": [
    "spark.sql('SELECT round((marks.Phycsics+marks.Chemistry+marks.Math)/3) avg_marks FROM records').show()"
   ]
  },
  {
   "cell_type": "code",
   "execution_count": 37,
   "metadata": {},
   "outputs": [
    {
     "name": "stdout",
     "output_type": "stream",
     "text": [
      "+-------+-----+------+--------------------+--------------------+-------------------+---------+\n",
      "|roll_no| name|passed|               marks|              sports|                Dob|avg_marks|\n",
      "+-------+-----+------+--------------------+--------------------+-------------------+---------+\n",
      "|      1|Intan|  true|{Phycsics -> 87, ...|  [chess, foot-ball]|2012-05-01 13:01:05|     86.0|\n",
      "|      2|Smith| false|{Phycsics -> 31, ...|[volley-ball, tab...|2012-05-12 14:02:05|     32.0|\n",
      "+-------+-----+------+--------------------+--------------------+-------------------+---------+\n",
      "\n"
     ]
    }
   ],
   "source": [
    "student_records_df = spark.sql('SELECT *, round((marks.Phycsics+marks.Chemistry+marks.Math)/3) avg_marks FROM records')\n",
    "student_records_df.show()"
   ]
  },
  {
   "cell_type": "markdown",
   "metadata": {},
   "source": [
    "## Update View"
   ]
  },
  {
   "cell_type": "code",
   "execution_count": 38,
   "metadata": {},
   "outputs": [],
   "source": [
    "student_records_df.createOrReplaceTempView('record_new')"
   ]
  },
  {
   "cell_type": "code",
   "execution_count": 39,
   "metadata": {},
   "outputs": [
    {
     "name": "stdout",
     "output_type": "stream",
     "text": [
      "+-------+-----+------+--------------------+--------------------+-------------------+---------+------+\n",
      "|roll_no| name|passed|               marks|              sports|                Dob|avg_marks|status|\n",
      "+-------+-----+------+--------------------+--------------------+-------------------+---------+------+\n",
      "|      1|Intan|  true|{Phycsics -> 87, ...|  [chess, foot-ball]|2012-05-01 13:01:05|     86.0|passed|\n",
      "|      2|Smith| false|{Phycsics -> 31, ...|[volley-ball, tab...|2012-05-12 14:02:05|     32.0|failed|\n",
      "+-------+-----+------+--------------------+--------------------+-------------------+---------+------+\n",
      "\n"
     ]
    }
   ],
   "source": [
    "student_records_df = student_records_df.withColumn('status', (when(col('avg_marks')>=40, 'passed')).otherwise('failed'))\n",
    "student_records_df.show()"
   ]
  },
  {
   "cell_type": "markdown",
   "metadata": {},
   "source": [
    "## Data Baru"
   ]
  },
  {
   "cell_type": "code",
   "execution_count": 40,
   "metadata": {},
   "outputs": [
    {
     "name": "stdout",
     "output_type": "stream",
     "text": [
      "+-------------+----------+-----+------+---+-----+\n",
      "|employee_name|department|state|salary|age|bonus|\n",
      "+-------------+----------+-----+------+---+-----+\n",
      "|         John|        HR|   NY| 90000| 34|10000|\n",
      "|         Neha|        HR|   NY| 86000| 28|20000|\n",
      "|       Robert|     Sales|   CA| 81000| 56|22000|\n",
      "|        Maria|     Sales|   CA| 99000| 45|15000|\n",
      "|         Paul|        IT|   NY| 98000| 38|14000|\n",
      "|          Jen|        IT|   CA| 90000| 34|20000|\n",
      "|          Raj|        IT|   CA| 93000| 28|28000|\n",
      "|        Pooja|        IT|   CA| 95000| 31|19000|\n",
      "+-------------+----------+-----+------+---+-----+\n",
      "\n"
     ]
    }
   ],
   "source": [
    "employeeData = (('John','HR','NY',90000,34,10000),('Neha','HR','NY',86000,28,20000),\n",
    "                ('Robert','Sales','CA',81000,56,22000),('Maria','Sales','CA',99000,45,15000),\n",
    "                ('Paul','IT','NY',98000,38,14000),('Jen','IT','CA',90000,34,20000),\n",
    "                ('Raj','IT','CA',93000,28,28000),('Pooja','IT','CA',95000,31,19000))\n",
    "columns = ('employee_name','department','state','salary','age','bonus')\n",
    "employeeDf = spark.createDataFrame(employeeData, columns)\n",
    "employeeDf.show()"
   ]
  },
  {
   "cell_type": "markdown",
   "metadata": {},
   "source": [
    "## GroupBy"
   ]
  },
  {
   "cell_type": "code",
   "execution_count": 41,
   "metadata": {},
   "outputs": [
    {
     "name": "stdout",
     "output_type": "stream",
     "text": [
      "+----------+-----------+\n",
      "|department|sum(salary)|\n",
      "+----------+-----------+\n",
      "|        HR|     176000|\n",
      "|     Sales|     180000|\n",
      "|        IT|     376000|\n",
      "+----------+-----------+\n",
      "\n"
     ]
    }
   ],
   "source": [
    "employeeDf.groupBy(col('department')).agg(sum(col('salary'))).show()"
   ]
  },
  {
   "cell_type": "code",
   "execution_count": 42,
   "metadata": {},
   "outputs": [
    {
     "ename": "AnalysisException",
     "evalue": "[UNRESOLVED_COLUMN.WITH_SUGGESTION] A column or function parameter with name `total_sal` cannot be resolved. Did you mean one of the following? [`department`, `sum(salary)`].;\n'Sort ['total_sal ASC NULLS FIRST], true\n+- SubqueryAlias total_sal\n   +- Aggregate [department#571], [department#571, sum(salary#573L) AS sum(salary)#636L]\n      +- LogicalRDD [employee_name#570, department#571, state#572, salary#573L, age#574L, bonus#575L], false\n",
     "output_type": "error",
     "traceback": [
      "\u001b[0;31m---------------------------------------------------------------------------\u001b[0m",
      "\u001b[0;31mAnalysisException\u001b[0m                         Traceback (most recent call last)",
      "Cell \u001b[0;32mIn[42], line 1\u001b[0m\n\u001b[0;32m----> 1\u001b[0m \u001b[43memployeeDf\u001b[49m\u001b[38;5;241;43m.\u001b[39;49m\u001b[43mgroupBy\u001b[49m\u001b[43m(\u001b[49m\u001b[43mcol\u001b[49m\u001b[43m(\u001b[49m\u001b[38;5;124;43m'\u001b[39;49m\u001b[38;5;124;43mdepartment\u001b[39;49m\u001b[38;5;124;43m'\u001b[39;49m\u001b[43m)\u001b[49m\u001b[43m)\u001b[49m\u001b[38;5;241;43m.\u001b[39;49m\u001b[43magg\u001b[49m\u001b[43m(\u001b[49m\u001b[38;5;28;43msum\u001b[39;49m\u001b[43m(\u001b[49m\u001b[43mcol\u001b[49m\u001b[43m(\u001b[49m\u001b[38;5;124;43m'\u001b[39;49m\u001b[38;5;124;43msalary\u001b[39;49m\u001b[38;5;124;43m'\u001b[39;49m\u001b[43m)\u001b[49m\u001b[43m)\u001b[49m\u001b[43m)\u001b[49m\u001b[38;5;241;43m.\u001b[39;49m\u001b[43malias\u001b[49m\u001b[43m(\u001b[49m\u001b[38;5;124;43m'\u001b[39;49m\u001b[38;5;124;43mtotal_sal\u001b[39;49m\u001b[38;5;124;43m'\u001b[39;49m\u001b[43m)\u001b[49m\u001b[38;5;241;43m.\u001b[39;49m\u001b[43morderBy\u001b[49m\u001b[43m(\u001b[49m\u001b[38;5;124;43m'\u001b[39;49m\u001b[38;5;124;43mtotal_sal\u001b[39;49m\u001b[38;5;124;43m'\u001b[39;49m\u001b[43m)\u001b[49m\u001b[38;5;241m.\u001b[39mshow()\n",
      "File \u001b[0;32m/usr/local/spark/python/pyspark/sql/dataframe.py:2740\u001b[0m, in \u001b[0;36mDataFrame.sort\u001b[0;34m(self, *cols, **kwargs)\u001b[0m\n\u001b[1;32m   2649\u001b[0m \u001b[38;5;28;01mdef\u001b[39;00m \u001b[38;5;21msort\u001b[39m(\n\u001b[1;32m   2650\u001b[0m     \u001b[38;5;28mself\u001b[39m, \u001b[38;5;241m*\u001b[39mcols: Union[\u001b[38;5;28mstr\u001b[39m, Column, List[Union[\u001b[38;5;28mstr\u001b[39m, Column]]], \u001b[38;5;241m*\u001b[39m\u001b[38;5;241m*\u001b[39mkwargs: Any\n\u001b[1;32m   2651\u001b[0m ) \u001b[38;5;241m-\u001b[39m\u001b[38;5;241m>\u001b[39m \u001b[38;5;124m\"\u001b[39m\u001b[38;5;124mDataFrame\u001b[39m\u001b[38;5;124m\"\u001b[39m:\n\u001b[1;32m   2652\u001b[0m \u001b[38;5;250m    \u001b[39m\u001b[38;5;124;03m\"\"\"Returns a new :class:`DataFrame` sorted by the specified column(s).\u001b[39;00m\n\u001b[1;32m   2653\u001b[0m \n\u001b[1;32m   2654\u001b[0m \u001b[38;5;124;03m    .. versionadded:: 1.3.0\u001b[39;00m\n\u001b[0;32m   (...)\u001b[0m\n\u001b[1;32m   2738\u001b[0m \u001b[38;5;124;03m    +---+-----+\u001b[39;00m\n\u001b[1;32m   2739\u001b[0m \u001b[38;5;124;03m    \"\"\"\u001b[39;00m\n\u001b[0;32m-> 2740\u001b[0m     jdf \u001b[38;5;241m=\u001b[39m \u001b[38;5;28;43mself\u001b[39;49m\u001b[38;5;241;43m.\u001b[39;49m\u001b[43m_jdf\u001b[49m\u001b[38;5;241;43m.\u001b[39;49m\u001b[43msort\u001b[49m\u001b[43m(\u001b[49m\u001b[38;5;28;43mself\u001b[39;49m\u001b[38;5;241;43m.\u001b[39;49m\u001b[43m_sort_cols\u001b[49m\u001b[43m(\u001b[49m\u001b[43mcols\u001b[49m\u001b[43m,\u001b[49m\u001b[43m \u001b[49m\u001b[43mkwargs\u001b[49m\u001b[43m)\u001b[49m\u001b[43m)\u001b[49m\n\u001b[1;32m   2741\u001b[0m     \u001b[38;5;28;01mreturn\u001b[39;00m DataFrame(jdf, \u001b[38;5;28mself\u001b[39m\u001b[38;5;241m.\u001b[39msparkSession)\n",
      "File \u001b[0;32m/usr/local/spark/python/lib/py4j-0.10.9.7-src.zip/py4j/java_gateway.py:1322\u001b[0m, in \u001b[0;36mJavaMember.__call__\u001b[0;34m(self, *args)\u001b[0m\n\u001b[1;32m   1316\u001b[0m command \u001b[38;5;241m=\u001b[39m proto\u001b[38;5;241m.\u001b[39mCALL_COMMAND_NAME \u001b[38;5;241m+\u001b[39m\\\n\u001b[1;32m   1317\u001b[0m     \u001b[38;5;28mself\u001b[39m\u001b[38;5;241m.\u001b[39mcommand_header \u001b[38;5;241m+\u001b[39m\\\n\u001b[1;32m   1318\u001b[0m     args_command \u001b[38;5;241m+\u001b[39m\\\n\u001b[1;32m   1319\u001b[0m     proto\u001b[38;5;241m.\u001b[39mEND_COMMAND_PART\n\u001b[1;32m   1321\u001b[0m answer \u001b[38;5;241m=\u001b[39m \u001b[38;5;28mself\u001b[39m\u001b[38;5;241m.\u001b[39mgateway_client\u001b[38;5;241m.\u001b[39msend_command(command)\n\u001b[0;32m-> 1322\u001b[0m return_value \u001b[38;5;241m=\u001b[39m \u001b[43mget_return_value\u001b[49m\u001b[43m(\u001b[49m\n\u001b[1;32m   1323\u001b[0m \u001b[43m    \u001b[49m\u001b[43manswer\u001b[49m\u001b[43m,\u001b[49m\u001b[43m \u001b[49m\u001b[38;5;28;43mself\u001b[39;49m\u001b[38;5;241;43m.\u001b[39;49m\u001b[43mgateway_client\u001b[49m\u001b[43m,\u001b[49m\u001b[43m \u001b[49m\u001b[38;5;28;43mself\u001b[39;49m\u001b[38;5;241;43m.\u001b[39;49m\u001b[43mtarget_id\u001b[49m\u001b[43m,\u001b[49m\u001b[43m \u001b[49m\u001b[38;5;28;43mself\u001b[39;49m\u001b[38;5;241;43m.\u001b[39;49m\u001b[43mname\u001b[49m\u001b[43m)\u001b[49m\n\u001b[1;32m   1325\u001b[0m \u001b[38;5;28;01mfor\u001b[39;00m temp_arg \u001b[38;5;129;01min\u001b[39;00m temp_args:\n\u001b[1;32m   1326\u001b[0m     \u001b[38;5;28;01mif\u001b[39;00m \u001b[38;5;28mhasattr\u001b[39m(temp_arg, \u001b[38;5;124m\"\u001b[39m\u001b[38;5;124m_detach\u001b[39m\u001b[38;5;124m\"\u001b[39m):\n",
      "File \u001b[0;32m/usr/local/spark/python/pyspark/errors/exceptions/captured.py:185\u001b[0m, in \u001b[0;36mcapture_sql_exception.<locals>.deco\u001b[0;34m(*a, **kw)\u001b[0m\n\u001b[1;32m    181\u001b[0m converted \u001b[38;5;241m=\u001b[39m convert_exception(e\u001b[38;5;241m.\u001b[39mjava_exception)\n\u001b[1;32m    182\u001b[0m \u001b[38;5;28;01mif\u001b[39;00m \u001b[38;5;129;01mnot\u001b[39;00m \u001b[38;5;28misinstance\u001b[39m(converted, UnknownException):\n\u001b[1;32m    183\u001b[0m     \u001b[38;5;66;03m# Hide where the exception came from that shows a non-Pythonic\u001b[39;00m\n\u001b[1;32m    184\u001b[0m     \u001b[38;5;66;03m# JVM exception message.\u001b[39;00m\n\u001b[0;32m--> 185\u001b[0m     \u001b[38;5;28;01mraise\u001b[39;00m converted \u001b[38;5;28;01mfrom\u001b[39;00m \u001b[38;5;28;01mNone\u001b[39;00m\n\u001b[1;32m    186\u001b[0m \u001b[38;5;28;01melse\u001b[39;00m:\n\u001b[1;32m    187\u001b[0m     \u001b[38;5;28;01mraise\u001b[39;00m\n",
      "\u001b[0;31mAnalysisException\u001b[0m: [UNRESOLVED_COLUMN.WITH_SUGGESTION] A column or function parameter with name `total_sal` cannot be resolved. Did you mean one of the following? [`department`, `sum(salary)`].;\n'Sort ['total_sal ASC NULLS FIRST], true\n+- SubqueryAlias total_sal\n   +- Aggregate [department#571], [department#571, sum(salary#573L) AS sum(salary)#636L]\n      +- LogicalRDD [employee_name#570, department#571, state#572, salary#573L, age#574L, bonus#575L], false\n"
     ]
    }
   ],
   "source": [
    "employeeDf.groupBy(col('department')).agg(sum(col('salary'))).alias('total_sal').orderBy('total_sal').show()"
   ]
  },
  {
   "cell_type": "code",
   "execution_count": null,
   "metadata": {},
   "outputs": [],
   "source": [
    "employeeDf.groupBy(col('department')).agg(sum(col('salary'))).alias('total_sal').orderBy(col('total_sal').desc()).show()"
   ]
  },
  {
   "cell_type": "code",
   "execution_count": null,
   "metadata": {},
   "outputs": [],
   "source": [
    "employeeDf.groupBy(col('department'),col('state')).agg(sum(col('bonus'))).show()"
   ]
  },
  {
   "cell_type": "code",
   "execution_count": null,
   "metadata": {},
   "outputs": [],
   "source": [
    "employeeDf.groupBy(col('department')).agg(avg(col('salary')).alias('avg_salary'),max(col('bonus')).alias('max_bonus')).show()"
   ]
  }
 ],
 "metadata": {
  "kernelspec": {
   "display_name": "Python 3 (ipykernel)",
   "language": "python",
   "name": "python3"
  },
  "language_info": {
   "codemirror_mode": {
    "name": "ipython",
    "version": 3
   },
   "file_extension": ".py",
   "mimetype": "text/x-python",
   "name": "python",
   "nbconvert_exporter": "python",
   "pygments_lexer": "ipython3",
   "version": "3.11.9"
  }
 },
 "nbformat": 4,
 "nbformat_minor": 4
}
